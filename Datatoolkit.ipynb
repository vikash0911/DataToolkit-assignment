{
  "nbformat": 4,
  "nbformat_minor": 0,
  "metadata": {
    "colab": {
      "provenance": []
    },
    "kernelspec": {
      "name": "python3",
      "display_name": "Python 3"
    },
    "language_info": {
      "name": "python"
    }
  },
  "cells": [
    {
      "cell_type": "markdown",
      "source": [
        "# Data Toolkit"
      ],
      "metadata": {
        "id": "ljZdVFHLzDGU"
      }
    },
    {
      "cell_type": "markdown",
      "source": [
        "**1.** What is NumPy, and why is it widely used in Python?\n",
        "**ans-** NumPy is a powerful library in Python for numerical computing. It provides support for large, multi-dimensional arrays and matrices, along with a collection of mathematical functions to operate on them. Its efficient handling of arrays makes it ideal for data manipulation and scientific computing. NumPy is widely used for tasks like data analysis, machine learning, and scientific simulations."
      ],
      "metadata": {
        "id": "6oPZhJbtzQl8"
      }
    },
    {
      "cell_type": "markdown",
      "source": [
        "**2.** How does broadcasting work in NumPy?\n",
        "**ans-** Broadcasting in NumPy refers to the ability to perform element-wise operations on arrays of different shapes, without needing to explicitly replicate data. It allows NumPy to \"stretch\" smaller arrays to match the shape of larger ones, so operations like addition, subtraction, or multiplication can be performed efficiently."
      ],
      "metadata": {
        "id": "dJ-S_hLLz2hM"
      }
    },
    {
      "cell_type": "markdown",
      "source": [
        "**3.** What is a Pandas DataFrame?\n",
        "**ans-** A Pandas DataFrame is a two-dimensional, size-mutable, and potentially heterogeneous tabular data structure in Python, similar to a table or a spreadsheet. It consists of rows and columns, where each column can contain different types of data (e.g., integers, strings, floats). DataFrames allow for easy manipulation, cleaning, filtering, and analysis of data."
      ],
      "metadata": {
        "id": "nesnFImK0Gxg"
      }
    },
    {
      "cell_type": "markdown",
      "source": [
        "**4.** Explain the use of the groupby() method in Pandas.\n",
        "**ans-** The groupby() method in Pandas is used to group data based on certain criteria, enabling you to perform operations (such as aggregation, transformation, or filtering) on each group independently. It splits the data into groups, applies a function to each group, and then combines the results."
      ],
      "metadata": {
        "id": "NWKp6IIa0W3W"
      }
    },
    {
      "cell_type": "markdown",
      "source": [
        "**5.** Why is Seaborn preferred for statistical visualizations?\n",
        "**ans-** Seaborn is preferred for statistical visualizations due to its simplicity and built-in support for complex plots like heatmaps, violin plots, and regression plots. It integrates well with Pandas, allowing direct plotting from DataFrames. Seaborn automatically handles aesthetics like colors and styles, producing visually appealing plots. It simplifies statistical analysis by providing easy-to-use functions for visualizing distributions and relationships. Overall, Seaborn is ideal for exploring data and gaining insights with minimal effort."
      ],
      "metadata": {
        "id": "RfATAc6n0r1A"
      }
    },
    {
      "cell_type": "markdown",
      "source": [
        "**6.** What are the differences between NumPy arrays and Python lists?\n",
        "**ans-** NumPy arrays are fixed-size, homogeneous data structures, meaning all elements must be of the same type, while Python lists are dynamic and can contain elements of different types. NumPy arrays support element-wise operations and are optimized for performance, while Python lists do not. NumPy provides a wide range of mathematical and statistical functions, whereas Python lists require loops for similar tasks. NumPy arrays are more memory-efficient and faster for large datasets compared to Python lists.\n"
      ],
      "metadata": {
        "id": "C13iYpop1SgW"
      }
    },
    {
      "cell_type": "markdown",
      "source": [
        "**7.** What is a heatmap, and when should it be used?\n",
        "**ans-** A heatmap is a data visualization that uses color gradients to represent values in a matrix or 2D data. It is useful for visualizing correlations, patterns, and the intensity of relationships between variables, often used for showing correlation matrices, frequency distributions, or spatial data. Heatmaps are ideal when you need to convey large amounts of data in a compact form and quickly identify areas of high or low values."
      ],
      "metadata": {
        "id": "odh_TocU1rAl"
      }
    },
    {
      "cell_type": "markdown",
      "source": [
        "**8.** What does the term “vectorized operation” mean in NumPy?\n",
        "**ans-** In NumPy, a \"vectorized operation\" refers to performing element-wise operations on entire arrays without the need for explicit loops. These operations are optimized and executed in compiled C code, which makes them much faster than using Python loops. Vectorization allows for concise, efficient, and parallelized computations, taking advantage of low-level optimizations for large datasets. Examples include adding, multiplying, or performing other arithmetic operations on arrays directly.\n"
      ],
      "metadata": {
        "id": "yZ7Msw5a2HK5"
      }
    },
    {
      "cell_type": "markdown",
      "source": [
        "**9.** How does Matplotlib differ from Plotly?\n",
        "**ans-** Matplotlib and Plotly are both popular visualization libraries, but they have key differences:\n",
        "\n",
        "Interactivity: Plotly is interactive by default, allowing users to zoom, pan, hover, and click on data points. Matplotlib, on the other hand, creates static plots, although it can be made interactive with additional libraries like mpl_toolkits or matplotlib.widgets.\n",
        "\n",
        "Ease of Use: Plotly tends to be easier for creating interactive, web-ready visualizations with minimal code. Matplotlib provides more fine-grained control over plot customization but often requires more code for complex tasks.\n",
        "\n",
        "Plot Types: Plotly offers a wider range of interactive and 3D plot types out of the box, while Matplotlib is primarily focused on 2D plots (though it supports 3D plotting via mplot3d)."
      ],
      "metadata": {
        "id": "sotBaMax2XlX"
      }
    },
    {
      "cell_type": "markdown",
      "source": [
        "**10.**  What is the significance of hierarchical indexing in Pandas?\n",
        "**ans-** Hierarchical indexing in Pandas allows multiple levels of row or column labels, enabling complex data structures with nested groups. It facilitates efficient data selection, slicing, and access by multiple criteria. This indexing method is useful for grouping and performing operations on data across different levels. It also supports reshaping operations like stack() and unstack(). Overall, it makes handling multi-dimensional data more intuitive and flexible."
      ],
      "metadata": {
        "id": "zoyALP5N21Yz"
      }
    },
    {
      "cell_type": "markdown",
      "source": [
        "**11.**  What is the role of Seaborn’s pairplot() function?\n",
        "**ans-** Seaborn's pairplot() function creates a grid of scatter plots to visualize relationships between multiple variables in a dataset. It plots pairwise relationships for all numeric columns in a DataFrame, making it easier to detect correlations, trends, and patterns. Diagonal elements often show univariate distributions, such as histograms or kernel density estimates (KDEs). The pairplot() function is useful for exploratory data analysis (EDA) to quickly spot interactions and distributions among variables.\n"
      ],
      "metadata": {
        "id": "7SAaScEE3KZk"
      }
    },
    {
      "cell_type": "markdown",
      "source": [
        "**12.**  What is the purpose of the describe() function in Pandas?\n",
        "**ans-** The describe() function in Pandas provides a quick summary of the statistical properties of numeric columns in a DataFrame or Series. It computes measures like count, mean, standard deviation, minimum, maximum, and percentiles (25%, 50%, and 75%) for each numeric column. This function is useful for understanding the distribution and central tendencies of your data during exploratory data analysis (EDA). It can also be used with categorical data by setting include='object' to get frequency counts."
      ],
      "metadata": {
        "id": "Bg9xoScq3ed6"
      }
    },
    {
      "cell_type": "markdown",
      "source": [
        "**13.** Why is handling missing data important in Pandas?\n",
        "**ans-** Handling missing data in Pandas is important because missing or NaN (Not a Number) values can affect data analysis, leading to incorrect results or errors in calculations. If not addressed, they can distort statistical analyses, such as means, sums, and regressions, or cause issues during operations like merging or grouping. Proper handling—such as filling missing values, dropping rows/columns, or imputing values—ensures data integrity and improves the quality and accuracy of analysis."
      ],
      "metadata": {
        "id": "pGTMiJeJ3skU"
      }
    },
    {
      "cell_type": "markdown",
      "source": [
        "**14.** What are the benefits of using Plotly for data visualization?\n",
        "**ans-** Interactivity: Plotly plots are interactive by default, allowing users to zoom, pan, hover for tooltips, and click to explore data points, making the visualizations more engaging and insightful.\n",
        "\n",
        "Wide Range of Plots: It supports a variety of chart types, including 2D, 3D plots, maps, and statistical charts, providing flexibility in visualizing different kinds of data.\n",
        "\n",
        "Web Integration: Plotly is designed for web-based visualizations, making it easy to embed interactive plots in websites, dashboards, or applications using platforms like Dash.\n",
        "\n",
        "Customization: Plotly allows for extensive customization of plots, such as colors, themes, and annotations, helping create visually appealing and tailored visualizations."
      ],
      "metadata": {
        "id": "FEVdXIGt36Zs"
      }
    },
    {
      "cell_type": "markdown",
      "source": [
        "**15.** How does NumPy handle multidimensional arrays?\n",
        "**ans-** NumPy handles multidimensional arrays using the ndarray object, allowing arrays of any number of dimensions. It stores data efficiently and supports operations across multiple dimensions with indexing, slicing, and broadcasting. Operations on these arrays are fast due to NumPy’s optimized C backend. You can create multidimensional arrays with functions like np.array(), np.zeros(), and np.ones(). NumPy makes it easy to manipulate and perform element-wise calculations on large datasets."
      ],
      "metadata": {
        "id": "t9b4DDLs4Pn_"
      }
    },
    {
      "cell_type": "markdown",
      "source": [
        "**16.** What is the role of Bokeh in data visualization?\n",
        "**ans-** Bokeh is a Python library for creating interactive, web-based visualizations. It allows for features like zooming, panning, and tooltips. Bokeh integrates well with web frameworks, enabling seamless embedding of plots in applications. It supports various plot types and real-time data streaming. The library offers extensive customization options for creating highly interactive and dynamic visualizations."
      ],
      "metadata": {
        "id": "87xFqG8a4l-b"
      }
    },
    {
      "cell_type": "markdown",
      "source": [
        "**17.**  Explain the difference between apply() and map() in Pandas.\n",
        "**ans-** In Pandas, apply() and map() are both used for applying functions to data, but they differ in their usage:\n",
        "\n",
        "apply(): It is more versatile and can be used on both Series and DataFrames. It allows applying a function along a specified axis (rows or columns in DataFrames), making it useful for more complex operations.\n",
        "\n",
        "map(): It is used specifically for Series and is mainly for element-wise transformations. It can accept dictionaries, functions, or Series to map values, making it simpler and faster for straightforward replacements or transformations."
      ],
      "metadata": {
        "id": "bNXx1EgI44Ih"
      }
    },
    {
      "cell_type": "markdown",
      "source": [
        "**18.**  What are some advanced features of NumPy?\n",
        "**ans-** Some advanced features of NumPy include:\n",
        "\n",
        "Broadcasting: Allows operations on arrays of different shapes by automatically aligning their dimensions, enabling efficient element-wise operations without explicit replication.\n",
        "\n",
        "Vectorization: Enables performing operations on entire arrays at once, significantly improving performance by eliminating the need for loops.\n",
        "\n",
        "Advanced Indexing: Supports fancy indexing and boolean indexing, allowing complex selections and modifications of array elements based on conditions or specific indices.\n",
        "\n",
        "Linear Algebra: NumPy includes efficient implementations of linear algebra functions like matrix multiplication, eigenvalues, and singular value decomposition (SVD).\n",
        "\n",
        "Random Module: Offers a suite of functions for generating random numbers, random sampling, and creating random distributions, useful for simulations and testing.\n",
        "\n",
        "Masked Arrays: Provides a way to handle arrays with missing or invalid data, allowing for more flexible computations with incomplete datasets."
      ],
      "metadata": {
        "id": "G8nlqjxI5LSt"
      }
    },
    {
      "cell_type": "markdown",
      "source": [
        "**19.**  How does Pandas simplify time series analysis?\n",
        "**ans-** Pandas simplifies time series analysis through several key features:\n",
        "\n",
        "DateTime Indexing: It allows you to easily create and work with time-based indexes (e.g., daily, monthly, or hourly) for efficient data retrieval and manipulation.\n",
        "\n",
        "Resampling: Pandas supports resampling, enabling easy aggregation or downsampling of time series data (e.g., converting daily data to monthly data).\n",
        "\n",
        "Rolling and Expanding Windows: You can compute moving averages or other rolling statistics using rolling() or expanding() functions, which are essential for time series analysis.\n",
        "\n",
        "Shifting and Lagging: It allows for easily shifting time series data forward or backward (e.g., to compute differences between time periods) using .shift().\n",
        "\n",
        "Time Zone Handling: Pandas offers built-in support for time zone conversion and handling, making it easier to work with time series data across different time zones.\n",
        "\n",
        "Datetime Functions: With Pandas' pd.to_datetime() and other datetime utilities, you can easily manipulate and extract specific components like day, month, or year."
      ],
      "metadata": {
        "id": "IRAe8XJX5Z-P"
      }
    },
    {
      "cell_type": "markdown",
      "source": [
        "**20.** What is the role of a pivot table in Pandas?\n",
        "**ans-** A pivot table in Pandas is used to summarize and aggregate data, reshaping it for easier analysis. It allows grouping data by one or more columns and applying aggregation functions (e.g., sum, mean). Pivot tables help transform long-format data into a more structured table for multi-dimensional analysis. They are useful for comparing different categories and summarizing large datasets efficiently."
      ],
      "metadata": {
        "id": "AehFJVOu5qWX"
      }
    },
    {
      "cell_type": "markdown",
      "source": [
        "**21.** Why is NumPy’s array slicing faster than Python’s list slicing?\n",
        "**ans-** NumPy's array slicing is faster than Python's list slicing because NumPy arrays are stored in contiguous memory, allowing faster access. They are homogeneous in data type, which avoids overhead, unlike Python lists, which are heterogeneous. NumPy operations are implemented in C, enabling low-level optimizations, while list slicing requires Python's slower high-level operations. Additionally, NumPy avoids explicit loops, speeding up operations on large datasets."
      ],
      "metadata": {
        "id": "uwuLIDqC5-rf"
      }
    },
    {
      "cell_type": "markdown",
      "source": [
        "**22.** What are some common use cases for Seaborn?\n",
        "**ans-** Some common use cases for Seaborn include:\n",
        "\n",
        "Exploratory Data Analysis (EDA): Seaborn is often used for quickly visualizing relationships, distributions, and trends in datasets, helping to identify patterns and outliers.\n",
        "\n",
        "Statistical Plots: It is ideal for creating complex statistical visualizations, such as regression plots, violin plots, and pair plots, to show relationships between multiple variables.\n",
        "\n",
        "Categorical Data Visualization: Seaborn makes it easy to visualize categorical data through plots like bar plots, box plots, and count plots, which reveal patterns across different categories.\n",
        "\n",
        "Heatmaps: Seaborn is frequently used for creating heatmaps to visualize correlation matrices or data relationships in a compact, color-coded format.\n",
        "\n",
        "Visualization of Relationships: It is used for visualizing relationships between numerical variables with plots like scatter plots, line plots, and joint plots."
      ],
      "metadata": {
        "id": "j7-Cqac-6Q8P"
      }
    },
    {
      "cell_type": "markdown",
      "source": [
        "#                                       Practical"
      ],
      "metadata": {
        "id": "b10gUG4h6gJ5"
      }
    },
    {
      "cell_type": "markdown",
      "source": [
        "**1.**  How do you create a 2D NumPy array and calculate the sum of each row?"
      ],
      "metadata": {
        "id": "rNojfsoE6mRC"
      }
    },
    {
      "cell_type": "code",
      "source": [
        "import numpy as np\n",
        "\n",
        "# Create a 2D array\n",
        "array = np.array([[1, 2, 3], [4, 5, 6], [7, 8, 9]])\n",
        "\n",
        "row_sums = np.sum(array, axis=1)\n",
        "\n",
        "print(\"2D Array:\")\n",
        "print(array)\n",
        "\n",
        "print(\"\\nSum of each row:\")\n",
        "print(row_sums)\n"
      ],
      "metadata": {
        "id": "GMJNDA7hEv1P"
      },
      "execution_count": null,
      "outputs": []
    },
    {
      "cell_type": "markdown",
      "source": [
        "**2.**  Write a Pandas script to find the mean of a specific column in a DataFrame?"
      ],
      "metadata": {
        "id": "bPPWKvdFFRTq"
      }
    },
    {
      "cell_type": "code",
      "source": [
        "import pandas as pd\n",
        "\n",
        "data = {'Name': ['Alice', 'Bob', 'Charlie', 'David', 'Eva'],\n",
        "        'Age': [24, 27, 22, 32, 29],\n",
        "        'Score': [85, 92, 78, 88, 95]}\n",
        "\n",
        "df = pd.DataFrame(data)\n",
        "\n",
        "mean_age = df['Age'].mean()\n",
        "\n",
        "mean_score = df['Score'].mean()\n",
        "\n",
        "print(f\"Mean of Age: {mean_age}\")\n",
        "print(f\"Mean of Score: {mean_score}\")\n"
      ],
      "metadata": {
        "id": "AzmaQ_ioFZZe"
      },
      "execution_count": null,
      "outputs": []
    },
    {
      "cell_type": "markdown",
      "source": [
        "**3.** Create a scatter plot using Matplotlib."
      ],
      "metadata": {
        "id": "G-5-f_5JFjCI"
      }
    },
    {
      "cell_type": "code",
      "source": [
        "import matplotlib.pyplot as plt\n",
        "\n",
        "# Sample data for scatter plot\n",
        "x = [1, 2, 3, 4, 5]\n",
        "y = [2, 3, 5, 7, 11]\n",
        "\n",
        "# Create the scatter plot\n",
        "plt.scatter(x, y)\n",
        "\n",
        "# Add labels and a title\n",
        "plt.xlabel('X-axis')\n",
        "plt.ylabel('Y-axis')\n",
        "plt.title('Simple Scatter Plot')\n",
        "\n",
        "# Show the plot\n",
        "plt.show()\n"
      ],
      "metadata": {
        "id": "eDpTYbSjFrRl"
      },
      "execution_count": null,
      "outputs": []
    },
    {
      "cell_type": "markdown",
      "source": [
        "**4.** How do you calculate the correlation matrix using Seaborn and visualize it with a heatmap?\n"
      ],
      "metadata": {
        "id": "y_-1nmRlFxzT"
      }
    },
    {
      "cell_type": "code",
      "source": [
        "import seaborn as sns\n",
        "import matplotlib.pyplot as plt\n",
        "import pandas as pd\n",
        "\n",
        "# Sample DataFrame\n",
        "data = {'A': [1, 2, 3, 4, 5],\n",
        "        'B': [5, 4, 3, 2, 1],\n",
        "        'C': [2, 3, 4, 5, 6],\n",
        "        'D': [10, 9, 8, 7, 6]}\n",
        "\n",
        "df = pd.DataFrame(data)\n",
        "\n",
        "correlation_matrix = df.corr()\n",
        "\n",
        "plt.figure(figsize=(8, 6))\n",
        "sns.heatmap(correlation_matrix, annot=True, cmap='coolwarm', fmt='.2f', linewidths=0.5)\n",
        "\n",
        "# Add title\n",
        "plt.title('Correlation Matrix Heatmap')\n",
        "\n",
        "# Show the plot\n",
        "plt.show()\n"
      ],
      "metadata": {
        "id": "rNt6QqeqF4d7"
      },
      "execution_count": null,
      "outputs": []
    },
    {
      "cell_type": "markdown",
      "source": [
        "**5.** Generate a bar plot using Plotly."
      ],
      "metadata": {
        "id": "vkJCHPtiGJPz"
      }
    },
    {
      "cell_type": "code",
      "source": [],
      "metadata": {
        "id": "OPuWq5gEGROD"
      },
      "execution_count": null,
      "outputs": []
    },
    {
      "cell_type": "markdown",
      "source": [
        "**6.**  Create a DataFrame and add a new column based on an existing column."
      ],
      "metadata": {
        "id": "IG83hbFcHJEc"
      }
    },
    {
      "cell_type": "code",
      "source": [
        "import pandas as pd\n",
        "\n",
        "# Create a DataFrame\n",
        "data = {'Name': ['Alice', 'Bob', 'Charlie', 'David'],\n",
        "        'Age': [25, 30, 35, 40]}\n",
        "\n",
        "df = pd.DataFrame(data)\n",
        "\n",
        "df['Age_plus_5'] = df['Age'] + 5\n",
        "\n",
        "print(df)\n"
      ],
      "metadata": {
        "id": "aW1LK7TqHSqU"
      },
      "execution_count": null,
      "outputs": []
    },
    {
      "cell_type": "markdown",
      "source": [
        "**7.** Write a program to perform element-wise multiplication of two NumPy arrays."
      ],
      "metadata": {
        "id": "41zH4VAEHcui"
      }
    },
    {
      "cell_type": "code",
      "source": [
        "import numpy as np\n",
        "\n",
        "array1 = np.array([1, 2, 3, 4])\n",
        "array2 = np.array([5, 6, 7, 8])\n",
        "\n",
        "# Perform element-wise multiplication\n",
        "result = array1 * array2\n",
        "\n",
        "print(\"Result of element-wise multiplication:\", result)\n"
      ],
      "metadata": {
        "id": "qolLNjluHmtV"
      },
      "execution_count": null,
      "outputs": []
    },
    {
      "cell_type": "markdown",
      "source": [
        "**8.** Create a line plot with multiple lines using Matplotlib."
      ],
      "metadata": {
        "id": "otPdthmgHs9g"
      }
    },
    {
      "cell_type": "code",
      "source": [
        "import matplotlib.pyplot as plt\n",
        "\n",
        "# Data for plotting\n",
        "x = [0, 1, 2, 3, 4, 5]\n",
        "y1 = [0, 1, 4, 9, 16, 25]\n",
        "y2 = [0, 1, 2, 3, 4, 5]\n",
        "y3 = [0, -1, -2, -3, -4, -5]\n",
        "\n",
        "plt.plot(x, y1, label='y = x^2', color='blue', linestyle='-')\n",
        "plt.plot(x, y2, label='y = x', color='green', linestyle='--')\n",
        "plt.plot(x, y3, label='y = -x', color='red', linestyle=':')\n",
        "\n",
        "plt.title('Multiple Line Plot Example')\n",
        "plt.xlabel('X-axis')\n",
        "plt.ylabel('Y-axis')\n",
        "\n",
        "plt.legend()\n",
        "\n",
        "plt.show()\n"
      ],
      "metadata": {
        "id": "gBR_XiXYH77U"
      },
      "execution_count": null,
      "outputs": []
    },
    {
      "cell_type": "markdown",
      "source": [
        "**9.** Generate a Pandas DataFrame and filter rows where a column value is greater than a threshol."
      ],
      "metadata": {
        "id": "Uy7k_HHCIYKL"
      }
    },
    {
      "cell_type": "code",
      "source": [
        "import pandas as pd\n",
        "\n",
        "data = {'Name': ['Alice', 'Bob', 'Charlie', 'David'],\n",
        "        'Age': [25, 30, 35, 40],\n",
        "        'Salary': [50000, 60000, 70000, 80000]}\n",
        "\n",
        "df = pd.DataFrame(data)\n",
        "\n",
        "threshold = 60000\n",
        "\n",
        "filtered_df = df[df['Salary'] > threshold]\n",
        "\n",
        "# Display the filtered DataFrame\n",
        "print(filtered_df)\n"
      ],
      "metadata": {
        "id": "GKXPctiRIkR2"
      },
      "execution_count": null,
      "outputs": []
    },
    {
      "cell_type": "markdown",
      "source": [
        "**10.** Create a histogram using Seaborn to visualize a distribution."
      ],
      "metadata": {
        "id": "9fBqzjBKIx1n"
      }
    },
    {
      "cell_type": "code",
      "source": [
        "import seaborn as sns\n",
        "import matplotlib.pyplot as plt\n",
        "\n",
        "# Sample data: random data points following a normal distribution\n",
        "data = [12, 15, 14, 10, 18, 19, 21, 22, 15, 14, 17, 16, 20, 19, 13, 18, 17, 21, 15, 14]\n",
        "\n",
        "\n",
        "sns.histplot(data, bins=10, kde=True)\n",
        "\n",
        "plt.title('Histogram with Distribution')\n",
        "plt.xlabel('Value')\n",
        "plt.ylabel('Frequency')\n",
        "\n",
        "plt.show()\n"
      ],
      "metadata": {
        "id": "pEm1u1s2I75F"
      },
      "execution_count": null,
      "outputs": []
    },
    {
      "cell_type": "markdown",
      "source": [
        "**11.** Perform matrix multiplication using NumPy."
      ],
      "metadata": {
        "id": "FMhf3BZYJKE6"
      }
    },
    {
      "cell_type": "code",
      "source": [
        "import numpy as np\n",
        "\n",
        "# Define two matrices\n",
        "matrix1 = np.array([[1, 2], [3, 4]])\n",
        "matrix2 = np.array([[5, 6], [7, 8]])\n",
        "\n",
        "result = np.dot(matrix1, matrix2)\n",
        "\n",
        "print(\"Result of matrix multiplication:\")\n",
        "print(result)\n"
      ],
      "metadata": {
        "id": "_640t8RyJS-o"
      },
      "execution_count": null,
      "outputs": []
    },
    {
      "cell_type": "markdown",
      "source": [
        "**12.** Use Pandas to load a CSV file and display its first 5 rows."
      ],
      "metadata": {
        "id": "t4-ASsHUJdyr"
      }
    },
    {
      "cell_type": "code",
      "source": [
        "import pandas as pd\n",
        "\n",
        "df = pd.read_csv('your_file.csv')\n",
        "\n",
        "# Display the first 5 rows of the DataFrame\n",
        "print(df.head())\n"
      ],
      "metadata": {
        "id": "24htlYifJuWi"
      },
      "execution_count": null,
      "outputs": []
    },
    {
      "cell_type": "markdown",
      "source": [
        "**13.**  Create a 3D scatter plot using Plotly."
      ],
      "metadata": {
        "id": "aE9_fCSFJyTp"
      }
    },
    {
      "cell_type": "code",
      "source": [
        "import plotly.express as px\n",
        "import pandas as pd\n",
        "\n",
        "data = {\n",
        "    'x': [1, 2, 3, 4, 5],\n",
        "    'y': [10, 11, 12, 13, 14],\n",
        "    'z': [20, 21, 22, 23, 24],\n",
        "}\n",
        "\n",
        "df = pd.DataFrame(data)\n",
        "\n",
        "fig = px.scatter_3d(df, x='x', y='y', z='z', title='3D Scatter Plot')\n",
        "\n",
        "\n",
        "fig.show()\n"
      ],
      "metadata": {
        "id": "RxC-9Z63J4W4"
      },
      "execution_count": null,
      "outputs": []
    }
  ]
}